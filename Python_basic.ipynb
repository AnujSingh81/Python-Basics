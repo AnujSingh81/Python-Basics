{
  "nbformat": 4,
  "nbformat_minor": 0,
  "metadata": {
    "colab": {
      "provenance": []
    },
    "kernelspec": {
      "name": "python3",
      "display_name": "Python 3"
    },
    "language_info": {
      "name": "python"
    }
  },
  "cells": [
    {
      "cell_type": "markdown",
      "source": [
        "## 1. What is Python, and why is it popular ?\n",
        "  ->Python is a high-level, interpreted programming language known for its simplicity and readability. Python is popular due to Easy to Learn and Use,Versatile and Multi-Purpose,Large Community Support,Extensive Libraries & Frameworks,Cross-Platform Compatibility,"
      ],
      "metadata": {
        "id": "vorM6kfx13n0"
      }
    },
    {
      "cell_type": "markdown",
      "source": [
        "## 2. What is an interpreter in Python ?\n",
        "  ->An interpreter in Python is a program that executes Python code line by line rather than compiling the entire code at once. It converts human-readable Python scripts into machine code dynamically at runtime, making Python an interpreted language."
      ],
      "metadata": {
        "id": "zF43wRuQ2-7q"
      }
    },
    {
      "cell_type": "markdown",
      "source": [
        "## 3.What are pre-defined keywords in Python ?\n",
        "  ->Pre-defined keywords in Python are reserved words that have special meanings and cannot be used as identifiers (variable names, function names, etc.). These keywords define Python's syntax and structure."
      ],
      "metadata": {
        "id": "maiCIwmD3drp"
      }
    },
    {
      "cell_type": "markdown",
      "source": [
        "##4. Can keywords be used as variable names ?\n",
        "   ->No, keywords cannot be used as variable names in Python. Since keywords have predefined meanings,"
      ],
      "metadata": {
        "id": "HBGGHCHw39ZT"
      }
    },
    {
      "cell_type": "markdown",
      "source": [
        "## 5. What is mutability in Python ?\n",
        "  ->Mutability in Python refers to whether an object’s value can be changed after creation."
      ],
      "metadata": {
        "id": "7U3lRVPZ4a-E"
      }
    },
    {
      "cell_type": "markdown",
      "source": [
        "## 6. Why are lists mutable, but tuples are immutable ?\n",
        "  -> Lists are mutable because they store references to elements, allowing modifications like adding, removing, or changing items. Tuples are immutable because they store fixed memory addresses, ensuring data integrity, faster performance, and hashability. This makes tuples ideal for constant data, while lists are better for dynamic, changeable data structures."
      ],
      "metadata": {
        "id": "Ow2ef4m44xnT"
      }
    },
    {
      "cell_type": "markdown",
      "source": [
        "## 7. What is the difference between “==” and “is” operators in Python ?\n",
        "  -> == checks if two variables have the same value, while is checks if they refer to the same memory location. Mutable objects like lists may have the same values but different identities. Immutable objects like small integers or strings may share memory, making is sometimes return True."
      ],
      "metadata": {
        "id": "0h-sFUw05SPs"
      }
    },
    {
      "cell_type": "markdown",
      "source": [
        "## 8. What are logical operators in Python ?\n",
        "  -> Logical operators in Python (and, or, not) are used to combine conditions. and returns True if both conditions are true, or returns True if at least one condition is true, and not negates a Boolean value. They are commonly used in decision-making and conditional statements"
      ],
      "metadata": {
        "id": "1nz2-Uqz6FyD"
      }
    },
    {
      "cell_type": "markdown",
      "source": [
        "## 9. What is type casting in Python ?\n",
        "  -> Type casting (type conversion) in Python is the process of converting one data type into another. It can be explicit  or implicit\n",
        "\n"
      ],
      "metadata": {
        "id": "g4rLLwwP6rNm"
      }
    },
    {
      "cell_type": "markdown",
      "source": [
        "## 10. What is the difference between implicit and explicit type casting ?\n",
        "  -> Implicit type casting is done automatically by Python when converting smaller data types to larger ones (e.g., int to float). Explicit type casting is manually performed using functions like int(), float(), or str(), ensuring precise control over data conversion. Explicit casting avoids errors but requires caution."
      ],
      "metadata": {
        "id": "T454KIUc7Pkw"
      }
    },
    {
      "cell_type": "markdown",
      "source": [
        "## 11.  What is the purpose of conditional statements in Python ?\n",
        "  -> Conditional statements in Python control the flow of execution based on conditions. They allow the program to make decisions and execute different code blocks based on whether a condition is True or False.\n",
        "\n"
      ],
      "metadata": {
        "id": "szEhb_oU7wtf"
      }
    },
    {
      "cell_type": "markdown",
      "source": [
        "## 12. How does the elif statement work ?\n",
        "  -> The elif statement checks multiple conditions after an if. If if is False, elif runs the next condition. If all fail, else executes. It avoids multiple separate if checks."
      ],
      "metadata": {
        "id": "hVGJMk8u8J6x"
      }
    },
    {
      "cell_type": "markdown",
      "source": [
        "## 13. What is the difference between for and while loops ?\n",
        "  -> A for loop is used for iterating over sequences (lists, tuples, strings, ranges) with a known number of iterations. A while loop runs until a condition becomes False, making it ideal for unknown iterations. for is controlled by a sequence, while while depends on a condition."
      ],
      "metadata": {
        "id": "bN2quaKV8kXX"
      }
    },
    {
      "cell_type": "markdown",
      "source": [
        "## 14. Describe a scenario where a while loop is more suitable than a for loop.?\n",
        "  -> A while loop is better when the number of iterations is unknown. For example, reading user input until they enter \"exit\". Since input length varies, while keeps running dynamically, unlike for, which needs a fixed range. This makes while ideal for indefinite loops with condition-based termination."
      ],
      "metadata": {
        "id": "7cEMYeAE9J6E"
      }
    },
    {
      "cell_type": "code",
      "source": [
        "# 1. 8 Write a Python program to print \"Hello, World!y\n",
        "print(\"Hello, World!\")"
      ],
      "metadata": {
        "colab": {
          "base_uri": "https://localhost:8080/"
        },
        "id": "9lJyz9GT9e1T",
        "outputId": "7d105b68-16bf-41fe-ce1a-dad3c6da7ded"
      },
      "execution_count": null,
      "outputs": [
        {
          "output_type": "stream",
          "name": "stdout",
          "text": [
            "Hello, World!\n"
          ]
        }
      ]
    },
    {
      "cell_type": "code",
      "execution_count": null,
      "metadata": {
        "id": "5ToIVLzYVPpm",
        "colab": {
          "base_uri": "https://localhost:8080/"
        },
        "outputId": "c203b12d-5e5a-4bd1-be76-81819f98633a"
      },
      "outputs": [
        {
          "output_type": "stream",
          "name": "stdout",
          "text": [
            "Name: Anuj kumar singh\n",
            "Age: 24\n"
          ]
        }
      ],
      "source": [
        "# 2. Write a Python program that displays your name and age\n",
        "print(\"Name: Anuj kumar singh\")\n",
        "print(\"Age: 24\")"
      ]
    },
    {
      "cell_type": "code",
      "source": [
        "# 3. Write code to print all the pre-defined keywords in Python using the keyword library8?\n",
        "import keyword\n",
        "print(keyword.kwlist)"
      ],
      "metadata": {
        "colab": {
          "base_uri": "https://localhost:8080/"
        },
        "id": "q9TNsJy6-VlA",
        "outputId": "94e8da7f-52e5-44a3-c74e-cad42fb5a1c1"
      },
      "execution_count": null,
      "outputs": [
        {
          "output_type": "stream",
          "name": "stdout",
          "text": [
            "['False', 'None', 'True', 'and', 'as', 'assert', 'async', 'await', 'break', 'class', 'continue', 'def', 'del', 'elif', 'else', 'except', 'finally', 'for', 'from', 'global', 'if', 'import', 'in', 'is', 'lambda', 'nonlocal', 'not', 'or', 'pass', 'raise', 'return', 'try', 'while', 'with', 'yield']\n"
          ]
        }
      ]
    },
    {
      "cell_type": "code",
      "source": [
        "# 4.Write a program that checks if a given word is a Python keyword.?\n",
        "import keyword\n",
        "word = input(\"Enter a word: \")\n",
        "if keyword.iskeyword(word):\n",
        "    print(f\"{word} is a Python keyword.\")\n",
        "else:\n",
        "    print(f\"{word} is not a Python keyword.\")"
      ],
      "metadata": {
        "colab": {
          "base_uri": "https://localhost:8080/"
        },
        "id": "7OKOkWK-_PV_",
        "outputId": "f940c262-8dc6-4605-a069-ec1f8e8ecd1a"
      },
      "execution_count": null,
      "outputs": [
        {
          "output_type": "stream",
          "name": "stdout",
          "text": [
            "Enter a word: clear\n",
            "clear is not a Python keyword.\n"
          ]
        }
      ]
    },
    {
      "cell_type": "code",
      "source": [
        "# 5.Create a list and tuple in Python, and demonstrate how attempting to change an element works differently for each?\n",
        "list_1 = [1,5,7,8,9] # orginal list\n",
        "list_1[2] = 4        # modefy list\n",
        "\n",
        "print(list_1)\n",
        "\n",
        "tuple_1 = (1,5,7,8,9) # orginal tuple\n",
        "try:\n",
        "    tuple_1[2] = 4\n",
        "except TypeError:\n",
        "    print(\"Tuples are immutable.\")\n"
      ],
      "metadata": {
        "colab": {
          "base_uri": "https://localhost:8080/"
        },
        "id": "1_OylWJ_AsJ4",
        "outputId": "97eeadc8-4b18-44e0-bdd4-1ecd075cf4ff"
      },
      "execution_count": null,
      "outputs": [
        {
          "output_type": "stream",
          "name": "stdout",
          "text": [
            "[1, 5, 4, 8, 9]\n",
            "Tuples are immutable.\n"
          ]
        }
      ]
    },
    {
      "cell_type": "code",
      "source": [
        "#6. Write a function to demonstrate the behavior of mutable and immutable arguments?\n",
        "def demonstrate_mutable_immutable(immutable_arg, mutable_arg):\n",
        "    immutable_arg += 10\n",
        "    print(f\"Inside function (immutable): {immutable_arg}\")\n",
        "    mutable_arg.append(4)\n",
        "    print(f\"Inside function (mutable): {mutable_arg}\")\n",
        "\n",
        "\n",
        "num = 5\n",
        "num_list = [1, 2, 3]\n",
        "\n",
        "print(f\"Before function call (immutable): {num}\")\n",
        "print(f\"Before function call (mutable): {num_list}\")\n",
        "\n",
        "demonstrate_mutable_immutable(num, num_list)\n",
        "\n",
        "print(f\"After function call (immutable): {num}\")\n",
        "print(f\"After function call (mutable): {num_list}\")\n"
      ],
      "metadata": {
        "id": "K76tHo0RByg4",
        "colab": {
          "base_uri": "https://localhost:8080/"
        },
        "outputId": "ef883e96-c64c-4a5f-d74f-fddf985d1358"
      },
      "execution_count": 1,
      "outputs": [
        {
          "output_type": "stream",
          "name": "stdout",
          "text": [
            "Before function call (immutable): 5\n",
            "Before function call (mutable): [1, 2, 3]\n",
            "Inside function (immutable): 15\n",
            "Inside function (mutable): [1, 2, 3, 4]\n",
            "After function call (immutable): 5\n",
            "After function call (mutable): [1, 2, 3, 4]\n"
          ]
        }
      ]
    },
    {
      "cell_type": "code",
      "source": [
        "#7.  Write a program that performs basic arithmetic operations on two user-input numbers.?\n",
        "x = int(input(\"Enter first number: \"))\n",
        "y = int(input(\"Enter second number: \"))\n",
        "\n",
        "print(f\"Addition: {x + y}\")\n",
        "print(f\"Subtraction: {x - y}\")\n",
        "print(f\"Multiplication: {x * y}\")"
      ],
      "metadata": {
        "colab": {
          "base_uri": "https://localhost:8080/"
        },
        "id": "Sq1A-xcdtlmQ",
        "outputId": "63bb7f41-4fce-427e-c90f-913a2f1d2670"
      },
      "execution_count": 3,
      "outputs": [
        {
          "output_type": "stream",
          "name": "stdout",
          "text": [
            "Enter first number: 45\n",
            "Enter second number: 65\n",
            "Addition: 110\n",
            "Subtraction: -20\n",
            "Multiplication: 2925\n"
          ]
        }
      ]
    },
    {
      "cell_type": "code",
      "source": [
        "# 8. Write a program to demonstrate the use of logical operators.?\n",
        "def demonstrate_logical_operators(a, b):\n",
        "    print(f\"a and b: {a and b}\")\n",
        "    print(f\"a or b: {a or b}\")\n",
        "    print(f\"not a: {not a}\")\n",
        "    print(f\"not b: {not b}\")\n",
        "\n",
        "# Test values\n",
        "a = True\n",
        "b = False\n",
        "\n",
        "demonstrate_logical_operators(a, b)\n",
        "\n"
      ],
      "metadata": {
        "colab": {
          "base_uri": "https://localhost:8080/"
        },
        "id": "7L3AzqvDuOfz",
        "outputId": "380990b3-ee91-4bc0-f9ee-ca46ee2e3f2d"
      },
      "execution_count": 7,
      "outputs": [
        {
          "output_type": "stream",
          "name": "stdout",
          "text": [
            "a and b: False\n",
            "a or b: True\n",
            "not a: False\n",
            "not b: True\n"
          ]
        }
      ]
    },
    {
      "cell_type": "code",
      "source": [
        "#9. Write a Python program to convert user input from string to integer, float, and boolean types?\n",
        "def convert_input():\n",
        "    user = input(\"Enter a value: \")\n",
        "\n",
        "    # Convert to integer\n",
        "    try:\n",
        "        int_value = int(user)\n",
        "        print(f\"Integer: {int_value}\")\n",
        "    except ValueError:\n",
        "        print(\"Cannot convert to integer\")\n",
        "\n",
        "    # Convert to float\n",
        "    try:\n",
        "        float_value = float(user)\n",
        "        print(f\"Float: {float_value}\")\n",
        "    except ValueError:\n",
        "        print(\"Cannot convert to float\")\n",
        "\n",
        "    # Convert to boolean\n",
        "    bool_value = bool(user)\n",
        "    print(f\"Boolean: {bool_value}\")\n",
        "\n",
        "convert_input()\n"
      ],
      "metadata": {
        "colab": {
          "base_uri": "https://localhost:8080/"
        },
        "id": "usJYGujkvRFe",
        "outputId": "62a25b58-3f34-4bd8-8548-052219d31389"
      },
      "execution_count": 9,
      "outputs": [
        {
          "output_type": "stream",
          "name": "stdout",
          "text": [
            "Enter a value: 4\n",
            "Integer: 4\n",
            "Float: 4.0\n",
            "Boolean: True\n"
          ]
        }
      ]
    },
    {
      "cell_type": "code",
      "source": [
        "# 10.Write code to demonstrate type casting with list elements.?\n",
        "def type_cast_list_elements(input_list):\n",
        "    int_list = []\n",
        "    float_list = []\n",
        "    bool_list = []\n",
        "\n",
        "    for item in input_list:\n",
        "        # Convert to integer\n",
        "        try:\n",
        "            int_list.append(int(item))\n",
        "        except ValueError:\n",
        "            int_list.append(None)  # Indicating conversion failure\n",
        "\n",
        "        # Convert to float\n",
        "        try:\n",
        "            float_list.append(float(item))\n",
        "        except ValueError:\n",
        "            float_list.append(None)\n",
        "\n",
        "        # Convert to boolean\n",
        "        bool_list.append(bool(item) and str(item).lower() not in [\"false\", \"0\", \"\"])\n",
        "\n",
        "    print(f\"Original List: {input_list}\")\n",
        "    print(f\"Integer List: {int_list}\")\n",
        "    print(f\"Float List: {float_list}\")\n",
        "    print(f\"Boolean List: {bool_list}\")\n",
        "\n",
        "# Sample list with mixed data types\n",
        "sample_list = [\"10\", \"20.5\", \"hello\", \"0\", \"True\", \"\"]\n",
        "type_cast_list_elements(sample_list)\n"
      ],
      "metadata": {
        "colab": {
          "base_uri": "https://localhost:8080/"
        },
        "id": "zKY8_eltwMAU",
        "outputId": "1a30b6d2-2aea-46c1-f3da-65363a8515ac"
      },
      "execution_count": 10,
      "outputs": [
        {
          "output_type": "stream",
          "name": "stdout",
          "text": [
            "Original List: ['10', '20.5', 'hello', '0', 'True', '']\n",
            "Integer List: [10, None, None, 0, None, None]\n",
            "Float List: [10.0, 20.5, None, 0.0, None, None]\n",
            "Boolean List: [True, True, True, False, True, False]\n"
          ]
        }
      ]
    },
    {
      "cell_type": "code",
      "source": [
        "# 11.Write a program that checks if a number is positive, negative, or zero?\n",
        "def check_number(num):\n",
        "    if num > 0:\n",
        "        print(\"Positive\")\n",
        "    elif num < 0:\n",
        "        print(\"Negative\")\n",
        "    else:\n",
        "        print(\"Zero\")\n",
        "\n",
        "\n",
        "num = int(input(\"Enter a number: \"))\n",
        "check_number(num)"
      ],
      "metadata": {
        "colab": {
          "base_uri": "https://localhost:8080/"
        },
        "id": "IdcJTXgfx-gE",
        "outputId": "e2f42d26-b674-4205-b2e0-c3b473bf11fa"
      },
      "execution_count": 12,
      "outputs": [
        {
          "output_type": "stream",
          "name": "stdout",
          "text": [
            "Enter a number: -2\n",
            "Negative\n"
          ]
        }
      ]
    },
    {
      "cell_type": "code",
      "source": [
        "# 12.Write a for loop to print numbers from 1 to 10.?\n",
        "for i in range(1, 11):\n",
        "    print(i)"
      ],
      "metadata": {
        "colab": {
          "base_uri": "https://localhost:8080/"
        },
        "id": "9Ln0S-gfyfEA",
        "outputId": "8571f5fd-ba76-4f2c-c4a8-9302e682a599"
      },
      "execution_count": 13,
      "outputs": [
        {
          "output_type": "stream",
          "name": "stdout",
          "text": [
            "1\n",
            "2\n",
            "3\n",
            "4\n",
            "5\n",
            "6\n",
            "7\n",
            "8\n",
            "9\n",
            "10\n"
          ]
        }
      ]
    },
    {
      "cell_type": "code",
      "source": [
        "# 13.Write a Python program to find the sum of all even numbers between 1 and 50.?\n",
        "sum_even = 0\n",
        "for num in range(2, 51, 2):\n",
        "    sum_even += num\n",
        "print(f\"Sum of even numbers between 1 and 50: {sum_even}\")"
      ],
      "metadata": {
        "colab": {
          "base_uri": "https://localhost:8080/"
        },
        "id": "HBCa70efytA2",
        "outputId": "b5319efc-5255-4f68-c6ee-136d9e38618e"
      },
      "execution_count": 14,
      "outputs": [
        {
          "output_type": "stream",
          "name": "stdout",
          "text": [
            "Sum of even numbers between 1 and 50: 650\n"
          ]
        }
      ]
    },
    {
      "cell_type": "code",
      "source": [
        "# 14. Write a program to reverse a string using a while loop.?\n",
        "def reverse_string(input_str):\n",
        "    reversed_str = \"\"\n",
        "    index = len(input_str) - 1\n",
        "\n",
        "    while index >= 0:\n",
        "        reversed_str += input_str[index]\n",
        "        index -= 1\n",
        "\n",
        "    return reversed_str\n",
        "\n",
        "# Example usage\n",
        "print(reverse_string(\"Python\"))"
      ],
      "metadata": {
        "colab": {
          "base_uri": "https://localhost:8080/"
        },
        "id": "bv9z28mOzYhl",
        "outputId": "75b52d43-0fbd-4a39-88a1-0cd46b44246b"
      },
      "execution_count": 15,
      "outputs": [
        {
          "output_type": "stream",
          "name": "stdout",
          "text": [
            "nohtyP\n"
          ]
        }
      ]
    },
    {
      "cell_type": "code",
      "source": [
        "# 15. Write a Python program to calculate the factorial of a number provided by the user using a while loop?\n",
        "num = int(input(\"Enter a non-negative integer: \"))\n",
        "factorial = 1\n",
        "i = 1\n",
        "if num < 0:\n",
        "    print(\"Factorial is not defined for negative numbers.\")\n",
        "elif num == 0:\n",
        "    print(\"The factorial of 0 is 1\")\n",
        "else:\n",
        "    while i <= num:\n",
        "        factorial *= i\n",
        "        i += 1\n",
        "\n",
        "    print(f\"The factorial of {num} is {factorial}\")"
      ],
      "metadata": {
        "colab": {
          "base_uri": "https://localhost:8080/"
        },
        "id": "RAKt1Z8H0dp9",
        "outputId": "653c70a6-40a8-4594-862c-c220df7e9d2b"
      },
      "execution_count": 16,
      "outputs": [
        {
          "output_type": "stream",
          "name": "stdout",
          "text": [
            "Enter a non-negative integer: 45\n",
            "The factorial of 45 is 119622220865480194561963161495657715064383733760000000000\n"
          ]
        }
      ]
    },
    {
      "cell_type": "code",
      "source": [],
      "metadata": {
        "id": "hJ3pKsir05p7"
      },
      "execution_count": null,
      "outputs": []
    }
  ]
}